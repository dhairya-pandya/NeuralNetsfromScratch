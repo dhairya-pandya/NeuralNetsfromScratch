{
 "cells": [
  {
   "cell_type": "code",
   "execution_count": 2,
   "metadata": {
    "_cell_guid": "b1076dfc-b9ad-4769-8c92-a6c4dae69d19",
    "_uuid": "8f2839f25d086af736a60e9eeb907d3b93b6e0e5",
    "execution": {
     "iopub.execute_input": "2025-07-07T20:38:20.843540Z",
     "iopub.status.busy": "2025-07-07T20:38:20.842747Z",
     "iopub.status.idle": "2025-07-07T20:38:20.851737Z",
     "shell.execute_reply": "2025-07-07T20:38:20.850435Z",
     "shell.execute_reply.started": "2025-07-07T20:38:20.843509Z"
    },
    "trusted": true
   },
   "outputs": [
    {
     "name": "stdout",
     "output_type": "stream",
     "text": [
      "/kaggle/input/digit-recognizer/sample_submission.csv\n",
      "/kaggle/input/digit-recognizer/train.csv\n",
      "/kaggle/input/digit-recognizer/test.csv\n"
     ]
    }
   ],
   "source": [
    "# This Neural Network tutorial performed under guidance of Samson Zhang\n",
    "\n",
    "import numpy as np # linear algebra\n",
    "import pandas as pd # data processing, CSV file I/O (e.g. pd.read_csv)\n",
    "import matplotlib.pyplot as plt\n",
    "\n",
    "\n",
    "import os\n",
    "for dirname, _, filenames in os.walk('/kaggle/input'):\n",
    "    for filename in filenames:\n",
    "        print(os.path.join(dirname, filename))\n"
   ]
  },
  {
   "cell_type": "code",
   "execution_count": 3,
   "metadata": {
    "execution": {
     "iopub.execute_input": "2025-07-07T20:38:20.853558Z",
     "iopub.status.busy": "2025-07-07T20:38:20.853266Z",
     "iopub.status.idle": "2025-07-07T20:38:25.063374Z",
     "shell.execute_reply": "2025-07-07T20:38:25.062430Z",
     "shell.execute_reply.started": "2025-07-07T20:38:20.853535Z"
    },
    "trusted": true
   },
   "outputs": [],
   "source": [
    "data=pd.read_csv('/kaggle/input/digit-recognizer/train.csv')\n",
    "data = np.array(data)\n",
    "m, n = data.shape\n",
    "np.random.shuffle(data) # shuffle before splitting into dev and training sets\n",
    "\n",
    "data_dev = data[0:1000].T\n",
    "Y_dev = data_dev[0]\n",
    "X_dev = data_dev[1:n]\n",
    "X_dev = X_dev / 255.\n",
    "\n",
    "data_train = data[1000:m].T\n",
    "Y_train = data_train[0]\n",
    "X_train = data_train[1:n]\n",
    "X_train = X_train / 255.\n",
    "_,m_train = X_train.shape"
   ]
  },
  {
   "cell_type": "code",
   "execution_count": 4,
   "metadata": {
    "execution": {
     "iopub.execute_input": "2025-07-07T20:38:25.064719Z",
     "iopub.status.busy": "2025-07-07T20:38:25.064360Z",
     "iopub.status.idle": "2025-07-07T20:38:25.071942Z",
     "shell.execute_reply": "2025-07-07T20:38:25.071115Z",
     "shell.execute_reply.started": "2025-07-07T20:38:25.064687Z"
    },
    "trusted": true
   },
   "outputs": [
    {
     "data": {
      "text/plain": [
       "array([4, 5, 7, ..., 1, 2, 0])"
      ]
     },
     "execution_count": 4,
     "metadata": {},
     "output_type": "execute_result"
    }
   ],
   "source": [
    "Y_train"
   ]
  },
  {
   "cell_type": "code",
   "execution_count": 5,
   "metadata": {
    "execution": {
     "iopub.execute_input": "2025-07-07T20:38:25.075250Z",
     "iopub.status.busy": "2025-07-07T20:38:25.074185Z",
     "iopub.status.idle": "2025-07-07T20:38:25.092776Z",
     "shell.execute_reply": "2025-07-07T20:38:25.091624Z",
     "shell.execute_reply.started": "2025-07-07T20:38:25.075223Z"
    },
    "trusted": true
   },
   "outputs": [],
   "source": [
    "def init_params():\n",
    "    W1 = np.random.rand(10, 784) - 0.5\n",
    "    b1 = np.random.rand(10, 1) - 0.5\n",
    "    W2 = np.random.rand(10, 10) - 0.5\n",
    "    b2 = np.random.rand(10, 1) - 0.5\n",
    "    return W1, b1, W2, b2\n",
    "\n",
    "def ReLU(Z):\n",
    "    return np.maximum(Z, 0)\n",
    "\n",
    "def softmax(Z):\n",
    "    A = np.exp(Z) / sum(np.exp(Z))\n",
    "    return A\n",
    "    \n",
    "def forward_prop(W1, b1, W2, b2, X):\n",
    "    Z1 = W1.dot(X) + b1\n",
    "    A1 = ReLU(Z1)\n",
    "    Z2 = W2.dot(A1) + b2\n",
    "    A2 = softmax(Z2)\n",
    "    return Z1, A1, Z2, A2\n",
    "\n",
    "def ReLU_deriv(Z):\n",
    "    return Z > 0\n",
    "\n",
    "def one_hot(Y):\n",
    "    one_hot_Y = np.zeros((Y.size, Y.max() + 1))\n",
    "    one_hot_Y[np.arange(Y.size), Y] = 1\n",
    "    one_hot_Y = one_hot_Y.T\n",
    "    return one_hot_Y\n",
    "\n",
    "def backward_prop(Z1, A1, Z2, A2, W1, W2, X, Y):\n",
    "    one_hot_Y = one_hot(Y)\n",
    "    dZ2 = A2 - one_hot_Y\n",
    "    dW2 = 1 / m * dZ2.dot(A1.T)\n",
    "    db2 = 1 / m * np.sum(dZ2)\n",
    "    dZ1 = W2.T.dot(dZ2) * ReLU_deriv(Z1)\n",
    "    dW1 = 1 / m * dZ1.dot(X.T)\n",
    "    db1 = 1 / m * np.sum(dZ1)\n",
    "    return dW1, db1, dW2, db2\n",
    "\n",
    "def update_params(W1, b1, W2, b2, dW1, db1, dW2, db2, alpha):\n",
    "    W1 = W1 - alpha * dW1\n",
    "    b1 = b1 - alpha * db1    \n",
    "    W2 = W2 - alpha * dW2  \n",
    "    b2 = b2 - alpha * db2    \n",
    "    return W1, b1, W2, b2"
   ]
  },
  {
   "cell_type": "code",
   "execution_count": 6,
   "metadata": {
    "execution": {
     "iopub.execute_input": "2025-07-07T20:38:25.093953Z",
     "iopub.status.busy": "2025-07-07T20:38:25.093646Z",
     "iopub.status.idle": "2025-07-07T20:38:25.111863Z",
     "shell.execute_reply": "2025-07-07T20:38:25.110935Z",
     "shell.execute_reply.started": "2025-07-07T20:38:25.093927Z"
    },
    "trusted": true
   },
   "outputs": [],
   "source": [
    "def get_predictions(A2):\n",
    "    return np.argmax(A2, 0)\n",
    "\n",
    "def get_accuracy(predictions, Y):\n",
    "    print(predictions, Y)\n",
    "    return np.sum(predictions == Y) / Y.size\n",
    "\n",
    "def gradient_descent(X, Y, alpha, iterations):\n",
    "    W1, b1, W2, b2 = init_params()\n",
    "    for i in range(iterations):\n",
    "        Z1, A1, Z2, A2 = forward_prop(W1, b1, W2, b2, X)\n",
    "        dW1, db1, dW2, db2 = backward_prop(Z1, A1, Z2, A2, W1, W2, X, Y)\n",
    "        W1, b1, W2, b2 = update_params(W1, b1, W2, b2, dW1, db1, dW2, db2, alpha)\n",
    "        if i % 10 == 0:\n",
    "            print(\"Iteration: \", i)\n",
    "            predictions = get_predictions(A2)\n",
    "            print(get_accuracy(predictions, Y))\n",
    "    return W1, b1, W2, b2"
   ]
  },
  {
   "cell_type": "code",
   "execution_count": 7,
   "metadata": {
    "execution": {
     "iopub.execute_input": "2025-07-07T20:38:25.113545Z",
     "iopub.status.busy": "2025-07-07T20:38:25.113229Z",
     "iopub.status.idle": "2025-07-07T20:39:02.923841Z",
     "shell.execute_reply": "2025-07-07T20:39:02.923113Z",
     "shell.execute_reply.started": "2025-07-07T20:38:25.113516Z"
    },
    "trusted": true
   },
   "outputs": [
    {
     "name": "stdout",
     "output_type": "stream",
     "text": [
      "Iteration:  0\n",
      "[9 0 7 ... 2 6 6] [4 5 7 ... 1 2 0]\n",
      "0.1023170731707317\n",
      "Iteration:  10\n",
      "[9 1 7 ... 2 6 0] [4 5 7 ... 1 2 0]\n",
      "0.1666829268292683\n",
      "Iteration:  20\n",
      "[9 1 7 ... 2 6 0] [4 5 7 ... 1 2 0]\n",
      "0.22490243902439025\n",
      "Iteration:  30\n",
      "[9 8 6 ... 2 6 0] [4 5 7 ... 1 2 0]\n",
      "0.28341463414634144\n",
      "Iteration:  40\n",
      "[4 9 6 ... 2 6 0] [4 5 7 ... 1 2 0]\n",
      "0.33878048780487807\n",
      "Iteration:  50\n",
      "[4 9 6 ... 1 6 6] [4 5 7 ... 1 2 0]\n",
      "0.3937560975609756\n",
      "Iteration:  60\n",
      "[4 9 7 ... 1 6 6] [4 5 7 ... 1 2 0]\n",
      "0.4599756097560976\n",
      "Iteration:  70\n",
      "[4 9 7 ... 1 2 6] [4 5 7 ... 1 2 0]\n",
      "0.5285853658536586\n",
      "Iteration:  80\n",
      "[4 9 7 ... 1 2 6] [4 5 7 ... 1 2 0]\n",
      "0.5730243902439024\n",
      "Iteration:  90\n",
      "[4 9 7 ... 1 2 6] [4 5 7 ... 1 2 0]\n",
      "0.6058536585365853\n",
      "Iteration:  100\n",
      "[4 9 7 ... 1 2 0] [4 5 7 ... 1 2 0]\n",
      "0.6322439024390244\n",
      "Iteration:  110\n",
      "[4 9 7 ... 1 2 0] [4 5 7 ... 1 2 0]\n",
      "0.6545365853658537\n",
      "Iteration:  120\n",
      "[4 9 7 ... 1 2 0] [4 5 7 ... 1 2 0]\n",
      "0.674609756097561\n",
      "Iteration:  130\n",
      "[4 9 7 ... 1 2 0] [4 5 7 ... 1 2 0]\n",
      "0.6912926829268292\n",
      "Iteration:  140\n",
      "[4 9 7 ... 1 2 0] [4 5 7 ... 1 2 0]\n",
      "0.7059756097560975\n",
      "Iteration:  150\n",
      "[4 9 7 ... 1 2 0] [4 5 7 ... 1 2 0]\n",
      "0.719390243902439\n",
      "Iteration:  160\n",
      "[4 5 7 ... 1 2 0] [4 5 7 ... 1 2 0]\n",
      "0.7320243902439024\n",
      "Iteration:  170\n",
      "[4 5 7 ... 1 2 0] [4 5 7 ... 1 2 0]\n",
      "0.7429756097560976\n",
      "Iteration:  180\n",
      "[4 5 7 ... 1 2 0] [4 5 7 ... 1 2 0]\n",
      "0.7530487804878049\n",
      "Iteration:  190\n",
      "[4 5 7 ... 1 2 0] [4 5 7 ... 1 2 0]\n",
      "0.7618780487804878\n",
      "Iteration:  200\n",
      "[4 5 7 ... 1 2 0] [4 5 7 ... 1 2 0]\n",
      "0.7694878048780488\n",
      "Iteration:  210\n",
      "[4 5 7 ... 1 2 0] [4 5 7 ... 1 2 0]\n",
      "0.7760975609756098\n",
      "Iteration:  220\n",
      "[4 5 7 ... 1 2 0] [4 5 7 ... 1 2 0]\n",
      "0.7818536585365854\n",
      "Iteration:  230\n",
      "[4 5 7 ... 1 2 0] [4 5 7 ... 1 2 0]\n",
      "0.7873170731707317\n",
      "Iteration:  240\n",
      "[4 5 7 ... 1 2 0] [4 5 7 ... 1 2 0]\n",
      "0.7922439024390244\n",
      "Iteration:  250\n",
      "[4 5 7 ... 1 2 0] [4 5 7 ... 1 2 0]\n",
      "0.7970731707317074\n",
      "Iteration:  260\n",
      "[4 5 7 ... 1 2 0] [4 5 7 ... 1 2 0]\n",
      "0.8011707317073171\n",
      "Iteration:  270\n",
      "[4 5 7 ... 1 2 0] [4 5 7 ... 1 2 0]\n",
      "0.8050487804878049\n",
      "Iteration:  280\n",
      "[4 5 7 ... 1 2 0] [4 5 7 ... 1 2 0]\n",
      "0.8081707317073171\n",
      "Iteration:  290\n",
      "[4 5 7 ... 1 2 0] [4 5 7 ... 1 2 0]\n",
      "0.8116341463414635\n",
      "Iteration:  300\n",
      "[4 5 7 ... 1 2 0] [4 5 7 ... 1 2 0]\n",
      "0.8148780487804878\n",
      "Iteration:  310\n",
      "[4 5 7 ... 1 2 0] [4 5 7 ... 1 2 0]\n",
      "0.8178536585365853\n",
      "Iteration:  320\n",
      "[4 5 7 ... 1 2 0] [4 5 7 ... 1 2 0]\n",
      "0.8210243902439024\n",
      "Iteration:  330\n",
      "[4 5 7 ... 1 2 0] [4 5 7 ... 1 2 0]\n",
      "0.8234390243902439\n",
      "Iteration:  340\n",
      "[4 5 7 ... 1 2 0] [4 5 7 ... 1 2 0]\n",
      "0.8258292682926829\n",
      "Iteration:  350\n",
      "[4 5 7 ... 1 2 0] [4 5 7 ... 1 2 0]\n",
      "0.8284390243902439\n",
      "Iteration:  360\n",
      "[4 5 7 ... 1 2 0] [4 5 7 ... 1 2 0]\n",
      "0.8306585365853658\n",
      "Iteration:  370\n",
      "[4 5 7 ... 1 2 0] [4 5 7 ... 1 2 0]\n",
      "0.8330731707317073\n",
      "Iteration:  380\n",
      "[4 5 7 ... 1 2 0] [4 5 7 ... 1 2 0]\n",
      "0.8349024390243902\n",
      "Iteration:  390\n",
      "[4 5 7 ... 1 2 0] [4 5 7 ... 1 2 0]\n",
      "0.8363658536585366\n",
      "Iteration:  400\n",
      "[4 5 7 ... 1 2 0] [4 5 7 ... 1 2 0]\n",
      "0.8383414634146341\n",
      "Iteration:  410\n",
      "[4 5 7 ... 1 2 0] [4 5 7 ... 1 2 0]\n",
      "0.8398292682926829\n",
      "Iteration:  420\n",
      "[4 5 7 ... 1 2 0] [4 5 7 ... 1 2 0]\n",
      "0.841\n",
      "Iteration:  430\n",
      "[4 5 7 ... 1 2 0] [4 5 7 ... 1 2 0]\n",
      "0.8425121951219512\n",
      "Iteration:  440\n",
      "[4 5 7 ... 1 2 0] [4 5 7 ... 1 2 0]\n",
      "0.8435853658536585\n",
      "Iteration:  450\n",
      "[4 5 7 ... 1 2 0] [4 5 7 ... 1 2 0]\n",
      "0.8450975609756097\n",
      "Iteration:  460\n",
      "[4 5 7 ... 1 2 0] [4 5 7 ... 1 2 0]\n",
      "0.8467073170731707\n",
      "Iteration:  470\n",
      "[4 5 7 ... 1 2 0] [4 5 7 ... 1 2 0]\n",
      "0.848\n",
      "Iteration:  480\n",
      "[4 5 7 ... 1 2 0] [4 5 7 ... 1 2 0]\n",
      "0.8490487804878049\n",
      "Iteration:  490\n",
      "[4 5 7 ... 1 2 0] [4 5 7 ... 1 2 0]\n",
      "0.8504634146341463\n"
     ]
    }
   ],
   "source": [
    "W1, b1, W2, b2 = gradient_descent(X_train, Y_train, 0.10, 500)"
   ]
  },
  {
   "cell_type": "code",
   "execution_count": 8,
   "metadata": {
    "execution": {
     "iopub.execute_input": "2025-07-07T20:39:02.925238Z",
     "iopub.status.busy": "2025-07-07T20:39:02.924974Z",
     "iopub.status.idle": "2025-07-07T20:39:02.931327Z",
     "shell.execute_reply": "2025-07-07T20:39:02.930530Z",
     "shell.execute_reply.started": "2025-07-07T20:39:02.925218Z"
    },
    "trusted": true
   },
   "outputs": [],
   "source": [
    "def make_predictions(X, W1, b1, W2, b2):\n",
    "    _, _, _, A2 = forward_prop(W1, b1, W2, b2, X)\n",
    "    predictions = get_predictions(A2)\n",
    "    return predictions\n",
    "\n",
    "def test_prediction(index, W1, b1, W2, b2):\n",
    "    current_image = X_train[:, index, None]\n",
    "    prediction = make_predictions(X_train[:, index, None], W1, b1, W2, b2)\n",
    "    label = Y_train[index]\n",
    "    print(\"Prediction: \", prediction)\n",
    "    print(\"Label: \", label)\n",
    "    \n",
    "    current_image = current_image.reshape((28, 28)) * 255\n",
    "    plt.gray()\n",
    "    plt.imshow(current_image, interpolation='nearest')\n",
    "    plt.show()"
   ]
  },
  {
   "cell_type": "code",
   "execution_count": 9,
   "metadata": {
    "execution": {
     "iopub.execute_input": "2025-07-07T20:39:02.932699Z",
     "iopub.status.busy": "2025-07-07T20:39:02.932237Z",
     "iopub.status.idle": "2025-07-07T20:39:03.565439Z",
     "shell.execute_reply": "2025-07-07T20:39:03.564530Z",
     "shell.execute_reply.started": "2025-07-07T20:39:02.932668Z"
    },
    "trusted": true
   },
   "outputs": [
    {
     "name": "stdout",
     "output_type": "stream",
     "text": [
      "Prediction:  [4]\n",
      "Label:  4\n"
     ]
    },
    {
     "data": {
      "image/png": "[encoded data removed]",
      "text/plain": [
       "<Figure size 640x480 with 1 Axes>"
      ]
     },
     "metadata": {},
     "output_type": "display_data"
    },
    {
     "name": "stdout",
     "output_type": "stream",
     "text": [
      "Prediction:  [5]\n",
      "Label:  5\n"
     ]
    },
    {
     "data": {
      "image/png": "[encoded data removed]",
      "text/plain": [
       "<Figure size 640x480 with 1 Axes>"
      ]
     },
     "metadata": {},
     "output_type": "display_data"
    },
    {
     "name": "stdout",
     "output_type": "stream",
     "text": [
      "Prediction:  [7]\n",
      "Label:  7\n"
     ]
    },
    {
     "data": {
      "image/png": "[encoded data removed]",
      "text/plain": [
       "<Figure size 640x480 with 1 Axes>"
      ]
     },
     "metadata": {},
     "output_type": "display_data"
    },
    {
     "name": "stdout",
     "output_type": "stream",
     "text": [
      "Prediction:  [5]\n",
      "Label:  5\n"
     ]
    },
    {
     "data": {
      "image/png": "[encoded data removed]",
      "text/plain": [
       "<Figure size 640x480 with 1 Axes>"
      ]
     },
     "metadata": {},
     "output_type": "display_data"
    }
   ],
   "source": [
    "test_prediction(0, W1, b1, W2, b2)\n",
    "test_prediction(1, W1, b1, W2, b2)\n",
    "test_prediction(2, W1, b1, W2, b2)\n",
    "test_prediction(3, W1, b1, W2, b2)"
   ]
  }
 ],
 "metadata": {
  "kaggle": {
   "accelerator": "none",
   "dataSources": [
    {
     "databundleVersionId": 861823,
     "sourceId": 3004,
     "sourceType": "competition"
    }
   ],
   "dockerImageVersionId": 31040,
   "isGpuEnabled": false,
   "isInternetEnabled": true,
   "language": "python",
   "sourceType": "notebook"
  },
  "kernelspec": {
   "display_name": "Python 3",
   "language": "python",
   "name": "python3"
  },
  "language_info": {
   "codemirror_mode": {
    "name": "ipython",
    "version": 3
   },
   "file_extension": ".py",
   "mimetype": "text/x-python",
   "name": "python",
   "nbconvert_exporter": "python",
   "pygments_lexer": "ipython3",
   "version": "3.11.11"
  }
 },
 "nbformat": 4,
 "nbformat_minor": 4
}
